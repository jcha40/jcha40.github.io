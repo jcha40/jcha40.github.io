{
 "cells": [
  {
   "cell_type": "markdown",
   "id": "f2937035-2399-40a8-ae72-a0059548f432",
   "metadata": {},
   "source": [
    "# Iterators"
   ]
  },
  {
   "cell_type": "markdown",
   "id": "0861e53e-a3b2-435d-94ed-9f533e4d2009",
   "metadata": {},
   "source": [
    "Iterators are objects with an <i>\\_\\_iter\\_\\_</i> and a <i>\\_\\_next\\_\\_</i> method. These methods allow you to iterate through the object in a _for_ loop and get successive values with the _next_ function. Data structures that you can iterate through in a _for_ loop like lists, strings, and dictionaries all have a corresponding iterator that can be instantiated by the _iter_ function. Here is an example of one:"
   ]
  },
  {
   "cell_type": "code",
   "execution_count": 1,
   "id": "b2d4bb3a-63ad-4919-96c0-a9b39424fcb5",
   "metadata": {},
   "outputs": [],
   "source": [
    "list_iterator = iter([1, 2, 3, 4, 5])"
   ]
  },
  {
   "cell_type": "markdown",
   "id": "c882c5fe-3e51-414b-9e51-59d76ecf689c",
   "metadata": {},
   "source": [
    "You can put it in a _for_ loop like you would a list:"
   ]
  },
  {
   "cell_type": "code",
   "execution_count": 2,
   "id": "a6396b87-56f9-469d-9205-3125733a03f5",
   "metadata": {},
   "outputs": [
    {
     "name": "stdout",
     "output_type": "stream",
     "text": [
      "1\n",
      "2\n",
      "3\n",
      "4\n",
      "5\n"
     ]
    }
   ],
   "source": [
    "for i in list_iterator:\n",
    "    print(i)"
   ]
  },
  {
   "cell_type": "markdown",
   "id": "cc1ddb15-fd2c-4c34-81ff-baaa8fe4924f",
   "metadata": {},
   "source": [
    "Once you iterate through an iterator, it is exhausted and cannot be iterated through again:"
   ]
  },
  {
   "cell_type": "code",
   "execution_count": 3,
   "id": "9f6ddd1f-a57d-432d-ad8f-c5bab727a668",
   "metadata": {},
   "outputs": [],
   "source": [
    "for i in list_iterator:\n",
    "    print(i)"
   ]
  },
  {
   "cell_type": "markdown",
   "id": "e9f618e0-cdf2-4c69-b515-1c76da869c99",
   "metadata": {},
   "source": [
    "You can also get successive values one at a time with the _next_ function"
   ]
  },
  {
   "cell_type": "code",
   "execution_count": 4,
   "id": "f0fcb88a-3767-4a5c-b301-1e12b2aabf54",
   "metadata": {},
   "outputs": [
    {
     "name": "stdout",
     "output_type": "stream",
     "text": [
      "1\n",
      "2\n"
     ]
    }
   ],
   "source": [
    "list_iterator = iter([1, 2])\n",
    "print(next(list_iterator))\n",
    "print(next(list_iterator))"
   ]
  },
  {
   "cell_type": "markdown",
   "id": "1d89a7f4-6789-42d4-ba2c-5f4215447fac",
   "metadata": {},
   "source": [
    "Once the iterator is exhausted, the _next_ function will raise a _StopIteration_ exception"
   ]
  },
  {
   "cell_type": "code",
   "execution_count": 5,
   "id": "17f8f72b-8995-4a36-9b49-b691faa45445",
   "metadata": {},
   "outputs": [
    {
     "ename": "StopIteration",
     "evalue": "",
     "output_type": "error",
     "traceback": [
      "\u001b[0;31m---------------------------------------------------------------------------\u001b[0m",
      "\u001b[0;31mStopIteration\u001b[0m                             Traceback (most recent call last)",
      "Input \u001b[0;32mIn [5]\u001b[0m, in \u001b[0;36m<module>\u001b[0;34m\u001b[0m\n\u001b[0;32m----> 1\u001b[0m \u001b[38;5;28;43mnext\u001b[39;49m\u001b[43m(\u001b[49m\u001b[43mlist_iterator\u001b[49m\u001b[43m)\u001b[49m\n",
      "\u001b[0;31mStopIteration\u001b[0m: "
     ]
    }
   ],
   "source": [
    "next(list_iterator)"
   ]
  },
  {
   "cell_type": "markdown",
   "id": "bf0d45f8-2500-44cb-99f2-daa48736cc42",
   "metadata": {},
   "source": [
    "# Generators"
   ]
  },
  {
   "cell_type": "markdown",
   "id": "d6af9564-602d-4383-aeb3-c4a88e6814e1",
   "metadata": {},
   "source": [
    "A generator is a special kind of iterator returned by a generator function. A generator function is characterized by _yield_ statements in place of a _return_ statement. When the _next_ function is called on a generator, it will run the code of its parent generator function until it reaches a _yield_ statement. It will then return the object of the _yield_ statement and pause. The code will resume when the _next_ function is called on the generator again and pause after the next _yield_ statement. Here is an example:"
   ]
  },
  {
   "cell_type": "code",
   "execution_count": 6,
   "id": "820441d9-36b6-4b4e-b2eb-9fe0901e191b",
   "metadata": {},
   "outputs": [
    {
     "name": "stdout",
     "output_type": "stream",
     "text": [
      "1\n"
     ]
    }
   ],
   "source": [
    "def generator_func():\n",
    "    a = 1\n",
    "    yield a\n",
    "    b = 2\n",
    "    yield b\n",
    "    c = 3\n",
    "    yield c\n",
    "    \n",
    "my_generator = generator_func()\n",
    "print(next(my_generator)) # The next function runs a = 1 inside the generator function, then when it hits yield a, it returns the object of yield a, which is a or 1."
   ]
  },
  {
   "cell_type": "code",
   "execution_count": 7,
   "id": "70a22e0e-ade8-4c0c-a275-30abd2411197",
   "metadata": {},
   "outputs": [
    {
     "name": "stdout",
     "output_type": "stream",
     "text": [
      "2\n"
     ]
    }
   ],
   "source": [
    "print(next(my_generator)) # Running the next function again runs b = 2 and returns b."
   ]
  },
  {
   "cell_type": "code",
   "execution_count": 8,
   "id": "2ffd1c48-d026-4738-8c16-930a70234232",
   "metadata": {},
   "outputs": [
    {
     "name": "stdout",
     "output_type": "stream",
     "text": [
      "3\n"
     ]
    }
   ],
   "source": [
    "print(next(my_generator)) # Similar story here"
   ]
  },
  {
   "cell_type": "markdown",
   "id": "d6aabe80-fd05-4ad5-9607-a3a25d5d4a51",
   "metadata": {},
   "source": [
    "When the generator has finished running through the code in the generator function, the generator is exhausted"
   ]
  },
  {
   "cell_type": "code",
   "execution_count": 9,
   "id": "ff83a70e-242b-4805-93c1-33caf7c7eacf",
   "metadata": {},
   "outputs": [
    {
     "ename": "StopIteration",
     "evalue": "",
     "output_type": "error",
     "traceback": [
      "\u001b[0;31m---------------------------------------------------------------------------\u001b[0m",
      "\u001b[0;31mStopIteration\u001b[0m                             Traceback (most recent call last)",
      "Input \u001b[0;32mIn [9]\u001b[0m, in \u001b[0;36m<module>\u001b[0;34m\u001b[0m\n\u001b[0;32m----> 1\u001b[0m \u001b[38;5;28;43mnext\u001b[39;49m\u001b[43m(\u001b[49m\u001b[43mmy_generator\u001b[49m\u001b[43m)\u001b[49m\n",
      "\u001b[0;31mStopIteration\u001b[0m: "
     ]
    }
   ],
   "source": [
    "next(my_generator) # Running the next function on an exhausted generator raises a StopIteration exception like a normal iterator"
   ]
  },
  {
   "cell_type": "markdown",
   "id": "f1eae5ee-e4d3-4a2c-9ef1-45726be23398",
   "metadata": {},
   "source": [
    "You can also iterate through a generator with a _for_ loop like a normal iterator"
   ]
  },
  {
   "cell_type": "code",
   "execution_count": 10,
   "id": "66a92717-1cb1-4de1-b32d-4588a8284cb1",
   "metadata": {},
   "outputs": [
    {
     "name": "stdout",
     "output_type": "stream",
     "text": [
      "1\n",
      "2\n",
      "3\n"
     ]
    }
   ],
   "source": [
    "for i in generator_func():\n",
    "    print(i)"
   ]
  },
  {
   "cell_type": "markdown",
   "id": "b0d1d699-f605-4a19-930c-33eeaec098f0",
   "metadata": {},
   "source": [
    "Generators are very useful if you want to iterate through many objects without actually storing all of those objects in memory at once. As a practical example, here is a function that gets all subsequences for an input list:"
   ]
  },
  {
   "cell_type": "code",
   "execution_count": 11,
   "id": "474e4bb1",
   "metadata": {},
   "outputs": [],
   "source": [
    "def get_all_subsequences(seq: list, start=0):\n",
    "    subseqs = [list(seq)]\n",
    "    for i in range(start, len(seq)):\n",
    "        e = seq.pop(i)\n",
    "        subseqs.extend(get_all_subsequences(seq, start=i))\n",
    "        seq.insert(i, e)\n",
    "    return subseqs"
   ]
  },
  {
   "cell_type": "markdown",
   "id": "5e265263",
   "metadata": {},
   "source": [
    "In order to profile its memory usage, we can use memory profiler. You can install it by running the following cell."
   ]
  },
  {
   "cell_type": "code",
   "execution_count": 12,
   "id": "68ab34aa",
   "metadata": {},
   "outputs": [
    {
     "name": "stdout",
     "output_type": "stream",
     "text": [
      "WARNING: pip is being invoked by an old script wrapper. This will fail in a future version of pip.\n",
      "Please see https://github.com/pypa/pip/issues/5599 for advice on fixing the underlying issue.\n",
      "To avoid this problem you can invoke Python with '-m pip' instead of running pip directly.\n",
      "Defaulting to user installation because normal site-packages is not writeable\n",
      "Requirement already satisfied: memory_profiler in /Users/jsc333/Library/Python/3.8/lib/python/site-packages (0.61.0)\n",
      "Requirement already satisfied: psutil in /Users/jsc333/Library/Python/3.8/lib/python/site-packages (from memory_profiler) (5.9.4)\n",
      "\n",
      "\u001b[1m[\u001b[0m\u001b[34;49mnotice\u001b[0m\u001b[1;39;49m]\u001b[0m\u001b[39;49m A new release of pip available: \u001b[0m\u001b[31;49m22.2.2\u001b[0m\u001b[39;49m -> \u001b[0m\u001b[32;49m22.3.1\u001b[0m\n",
      "\u001b[1m[\u001b[0m\u001b[34;49mnotice\u001b[0m\u001b[1;39;49m]\u001b[0m\u001b[39;49m To update, run: \u001b[0m\u001b[32;49m/Library/Developer/CommandLineTools/usr/bin/python3 -m pip install --upgrade pip\u001b[0m\n"
     ]
    }
   ],
   "source": [
    "!pip3 install memory_profiler\n",
    "%load_ext memory_profiler"
   ]
  },
  {
   "cell_type": "markdown",
   "id": "af0391d4",
   "metadata": {},
   "source": [
    "Notice the memory increment when we iterate through it. We are storing all 2<sup>n</sup> possible subsequences in memory"
   ]
  },
  {
   "cell_type": "code",
   "execution_count": 13,
   "id": "6eae6fa3",
   "metadata": {},
   "outputs": [
    {
     "name": "stdout",
     "output_type": "stream",
     "text": [
      "peak memory: 218.10 MiB, increment: 150.18 MiB\n"
     ]
    }
   ],
   "source": [
    "%memit for subseq in get_all_subsequences(list(range(20))): pass"
   ]
  },
  {
   "cell_type": "markdown",
   "id": "91d84213",
   "metadata": {},
   "source": [
    "Now if we create an equivalent generator function, we can significantly decrease how much memory is being used at once"
   ]
  },
  {
   "cell_type": "code",
   "execution_count": 14,
   "id": "9f8b706b",
   "metadata": {},
   "outputs": [
    {
     "name": "stdout",
     "output_type": "stream",
     "text": [
      "peak memory: 153.77 MiB, increment: 69.68 MiB\n"
     ]
    }
   ],
   "source": [
    "def get_all_subsequences_generator(seq: list, start=0):\n",
    "    yield list(seq)\n",
    "    for i in range(start, len(seq)):\n",
    "        e = seq.pop(i)\n",
    "        yield from get_all_subsequences(seq, start=i)\n",
    "        seq.insert(i, e)\n",
    "\n",
    "%memit for subseq in get_all_subsequences_generator(list(range(20))): pass"
   ]
  },
  {
   "cell_type": "markdown",
   "id": "5765421e",
   "metadata": {},
   "source": [
    "### Some additional notes on generators"
   ]
  },
  {
   "cell_type": "markdown",
   "id": "eb0ac8e9-02db-49df-b10b-95f6f7c5e595",
   "metadata": {},
   "source": [
    "In python3, _yield from a_ is equivalent to _for x in a; yield x_. For example:"
   ]
  },
  {
   "cell_type": "code",
   "execution_count": 15,
   "id": "0911902a-2485-4edd-b9f4-c0c1c14aab7a",
   "metadata": {},
   "outputs": [
    {
     "name": "stdout",
     "output_type": "stream",
     "text": [
      "1\n",
      "2\n",
      "3\n"
     ]
    }
   ],
   "source": [
    "def generator_func_for():\n",
    "    for x in [1, 2, 3]:\n",
    "        yield x\n",
    "\n",
    "for i in generator_func_for():\n",
    "    print(i)"
   ]
  },
  {
   "cell_type": "code",
   "execution_count": 16,
   "id": "99d86eee-d53b-472e-9ba0-14d010d5deb8",
   "metadata": {},
   "outputs": [
    {
     "name": "stdout",
     "output_type": "stream",
     "text": [
      "1\n",
      "2\n",
      "3\n"
     ]
    }
   ],
   "source": [
    "def generator_func_yield_from():\n",
    "    yield from [1, 2, 3]\n",
    "\n",
    "for i in generator_func_yield_from():\n",
    "    print(i)"
   ]
  },
  {
   "cell_type": "markdown",
   "id": "204e9adf-3214-4c71-a173-398f1f51c7f0",
   "metadata": {},
   "source": [
    "Also in python3, a _return_ statement inside a generator function immediately exhausts the corresponding generator and will cause it to ignore any subsequent _yield_ statements. For example:"
   ]
  },
  {
   "cell_type": "code",
   "execution_count": 17,
   "id": "84c9d788-de50-4cc8-8a42-25115b7a3e4d",
   "metadata": {},
   "outputs": [
    {
     "name": "stdout",
     "output_type": "stream",
     "text": [
      "1\n"
     ]
    }
   ],
   "source": [
    "def generator_func_with_return():\n",
    "    a = 1\n",
    "    yield a\n",
    "    b = 2\n",
    "    return b\n",
    "    c = 3\n",
    "    yield c\n",
    "\n",
    "my_generator = generator_func_with_return()\n",
    "print(next(my_generator)) # The first yield statement is unaffected by return statement"
   ]
  },
  {
   "cell_type": "markdown",
   "id": "4949599d-2814-4a78-963f-f2b707ddd7fa",
   "metadata": {},
   "source": [
    "The _return b_ statement in the generator function is actually equivalent to _raise StopIteration(b)_"
   ]
  },
  {
   "cell_type": "code",
   "execution_count": 18,
   "id": "7eb154e1-f3a9-4d05-acb9-9c7e6896636b",
   "metadata": {},
   "outputs": [
    {
     "ename": "StopIteration",
     "evalue": "2",
     "output_type": "error",
     "traceback": [
      "\u001b[0;31m---------------------------------------------------------------------------\u001b[0m",
      "\u001b[0;31mStopIteration\u001b[0m                             Traceback (most recent call last)",
      "Input \u001b[0;32mIn [18]\u001b[0m, in \u001b[0;36m<module>\u001b[0;34m\u001b[0m\n\u001b[0;32m----> 1\u001b[0m \u001b[38;5;28;43mnext\u001b[39;49m\u001b[43m(\u001b[49m\u001b[43mmy_generator\u001b[49m\u001b[43m)\u001b[49m\n",
      "\u001b[0;31mStopIteration\u001b[0m: 2"
     ]
    }
   ],
   "source": [
    "next(my_generator)"
   ]
  },
  {
   "cell_type": "markdown",
   "id": "b2c6f4c1-a89f-43f5-80f4-0b14310f1378",
   "metadata": {},
   "source": [
    "If you put it in a _for_ loop, it will ignore _yield_ statements after the _return_ statement"
   ]
  },
  {
   "cell_type": "code",
   "execution_count": 19,
   "id": "a85142fb-8bc5-4869-ab5a-6fe0d9c29db8",
   "metadata": {},
   "outputs": [
    {
     "name": "stdout",
     "output_type": "stream",
     "text": [
      "1\n"
     ]
    }
   ],
   "source": [
    "for i in generator_func_with_return():\n",
    "    print(i)"
   ]
  },
  {
   "cell_type": "code",
   "execution_count": null,
   "id": "2022b7dc-9850-45bd-9a76-f21d529ddbbf",
   "metadata": {},
   "outputs": [],
   "source": []
  }
 ],
 "metadata": {
  "kernelspec": {
   "display_name": "Python 3 (ipykernel)",
   "language": "python",
   "name": "python3"
  },
  "language_info": {
   "codemirror_mode": {
    "name": "ipython",
    "version": 3
   },
   "file_extension": ".py",
   "mimetype": "text/x-python",
   "name": "python",
   "nbconvert_exporter": "python",
   "pygments_lexer": "ipython3",
   "version": "3.8.2"
  }
 },
 "nbformat": 4,
 "nbformat_minor": 5
}
