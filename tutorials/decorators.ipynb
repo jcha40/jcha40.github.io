{
 "cells": [
  {
   "cell_type": "markdown",
   "id": "234a0b00-a49e-4a10-95a5-191817fd9e09",
   "metadata": {},
   "source": [
    "# Decorators"
   ]
  },
  {
   "cell_type": "markdown",
   "id": "aff9c0aa-0c71-4ca0-85a3-84e596b6b74e",
   "metadata": {},
   "source": [
    "A decorator, sometimes called a wrapper, is a function that takes another function as its input and outputs a modified function. Here is an example of a decorator that modifies a numeric function to return the function value plus one:"
   ]
  },
  {
   "cell_type": "code",
   "execution_count": 1,
   "id": "91604a6b-f77b-4cd8-94c6-ccb906880199",
   "metadata": {},
   "outputs": [],
   "source": [
    "def plus_one_decorator(func):\n",
    "    def new_func(n):\n",
    "        return func(n) + 1\n",
    "    return new_func"
   ]
  },
  {
   "cell_type": "markdown",
   "id": "1a1f3c45-0c46-4818-9186-fc01e7fe5075",
   "metadata": {},
   "source": [
    "To see it in action let's use it on a simple function:"
   ]
  },
  {
   "cell_type": "code",
   "execution_count": 2,
   "id": "50531270-4f73-4a65-8ed5-960bae7a2ad6",
   "metadata": {},
   "outputs": [],
   "source": [
    "def square(n):\n",
    "    return n * n"
   ]
  },
  {
   "cell_type": "markdown",
   "id": "4de0813f-7c43-4227-b7aa-55a617e37308",
   "metadata": {},
   "source": [
    "You can use the decorator like a normal function,"
   ]
  },
  {
   "cell_type": "code",
   "execution_count": 3,
   "id": "7eccb2ae-b330-4efb-a9c5-e54b22b8fa60",
   "metadata": {},
   "outputs": [
    {
     "name": "stdout",
     "output_type": "stream",
     "text": [
      "Original function output: 9\n",
      "Modified function output: 10\n"
     ]
    }
   ],
   "source": [
    "square_output = square(3)\n",
    "print('Original function output: {}'.format(square_output))\n",
    "\n",
    "square_plus_one = plus_one_decorator(square)\n",
    "square_plus_one_output = square_plus_one(3)\n",
    "print('Modified function output: {}'.format(square_plus_one_output))"
   ]
  },
  {
   "cell_type": "markdown",
   "id": "817617c2-06fc-462e-a2db-4e906da6a9fa",
   "metadata": {},
   "source": [
    "but the proper way to use a decorator is like this:"
   ]
  },
  {
   "cell_type": "code",
   "execution_count": 4,
   "id": "68221e02-1c9b-40d5-bf8d-a20397ebdc9a",
   "metadata": {},
   "outputs": [
    {
     "name": "stdout",
     "output_type": "stream",
     "text": [
      "Decorated function output: 10\n"
     ]
    }
   ],
   "source": [
    "@plus_one_decorator\n",
    "def square_plus_one_decorated(n):\n",
    "    return n * n\n",
    "\n",
    "square_plus_one_decorated_output = square_plus_one_decorated(3)\n",
    "print('Decorated function output: {}'.format(square_plus_one_decorated_output))"
   ]
  },
  {
   "cell_type": "markdown",
   "id": "fd7e7943-a1b5-4e6a-b8be-fd7374f2e910",
   "metadata": {},
   "source": [
    "This way, you don't need an intermediate function taking up identifier space."
   ]
  },
  {
   "cell_type": "markdown",
   "id": "d199f342-04f6-49dc-bac9-15a792e88102",
   "metadata": {},
   "source": [
    "Here is an example of a decorator that is actually useful:"
   ]
  },
  {
   "cell_type": "code",
   "execution_count": 5,
   "id": "9f7afa2f-7ece-4dbb-900e-db96da3b6ec5",
   "metadata": {},
   "outputs": [],
   "source": [
    "# Create a caching decorator\n",
    "def cache(func):\n",
    "    def new_func(*args):\n",
    "        if args in new_func.cache: # If the arguments passed in are already in the cache, don't compute it, just return what's already in the cache\n",
    "            return new_func.cache[args]\n",
    "        out = func(*args)\n",
    "        new_func.cache[args] = out # If the arguments are not already in the cache, add them to the cache\n",
    "        return out\n",
    "        \n",
    "    new_func.cache = {} # Create the cache for the modified function\n",
    "    return new_func"
   ]
  },
  {
   "cell_type": "markdown",
   "id": "ddbdf071-a386-4fca-92f3-543aade5a117",
   "metadata": {
    "tags": []
   },
   "source": [
    "And a recursive function to compute the Stirling numbers of the first kind"
   ]
  },
  {
   "cell_type": "code",
   "execution_count": 6,
   "id": "01f06ca0-980e-46eb-8df1-6cef88288b07",
   "metadata": {},
   "outputs": [
    {
     "name": "stdout",
     "output_type": "stream",
     "text": [
      "s(15, 7) = 14409322928\n"
     ]
    }
   ],
   "source": [
    "def stirling(n, k):\n",
    "    if k == n:\n",
    "        return 1\n",
    "    if k == 0:\n",
    "        return 0\n",
    "    return (1 - n) * stirling(n - 1, k) + stirling(n - 1, k - 1)\n",
    "\n",
    "print('s(15, 7) = {}'.format(stirling(15, 7)))"
   ]
  },
  {
   "cell_type": "markdown",
   "id": "a037e8df-4b84-46c6-96e4-518d8c3e118c",
   "metadata": {},
   "source": [
    "Notice how long it takes if we call it many times"
   ]
  },
  {
   "cell_type": "code",
   "execution_count": 7,
   "id": "f90c02d9-869c-4a4f-a7ed-0187a04c7776",
   "metadata": {},
   "outputs": [
    {
     "name": "stdout",
     "output_type": "stream",
     "text": [
      "1.75 ms ± 4.4 µs per loop (mean ± std. dev. of 7 runs, 1,000 loops each)\n"
     ]
    }
   ],
   "source": [
    "%timeit -n 1000 stirling(15, 7)"
   ]
  },
  {
   "cell_type": "markdown",
   "id": "2c54e720-05dd-48fc-b920-5f344ca45837",
   "metadata": {},
   "source": [
    "However, if you use the cache decorator with the same function body, the first call will take just as long, but any subsequent calls with the same arguments (including recursive calls) will be instantaneous"
   ]
  },
  {
   "cell_type": "code",
   "execution_count": 8,
   "id": "bafb49eb-e67b-4331-b807-6d5bf0006636",
   "metadata": {},
   "outputs": [
    {
     "name": "stdout",
     "output_type": "stream",
     "text": [
      "s(15, 7) = 14409322928\n",
      "246 ns ± 21.8 ns per loop (mean ± std. dev. of 7 runs, 1,000 loops each)\n"
     ]
    }
   ],
   "source": [
    "@cache\n",
    "def stirling_cache(n, k):\n",
    "    if k == n:\n",
    "        return 1\n",
    "    if k == 0:\n",
    "        return 0\n",
    "    return (1 - n) * stirling_cache(n - 1, k) + stirling_cache(n - 1, k - 1)\n",
    "\n",
    "print('s(15, 7) = {}'.format(stirling_cache(15, 7)))\n",
    "%timeit -n 1000 stirling_cache(15, 7)"
   ]
  },
  {
   "cell_type": "markdown",
   "id": "ed024051-cd13-477b-a80e-8b1b5cb3b92a",
   "metadata": {},
   "source": [
    "In fact a similar decorator is already in the standard _functools_ library"
   ]
  },
  {
   "cell_type": "code",
   "execution_count": 9,
   "id": "bf0808f2-e4b5-4ff7-abfd-af5c0ce07e9b",
   "metadata": {},
   "outputs": [
    {
     "name": "stdout",
     "output_type": "stream",
     "text": [
      "s(15, 7) = 14409322928\n",
      "89.4 ns ± 3.24 ns per loop (mean ± std. dev. of 7 runs, 1,000 loops each)\n"
     ]
    }
   ],
   "source": [
    "import functools\n",
    "\n",
    "@functools.lru_cache\n",
    "def stirling_fcache(n, k):\n",
    "    if k == n:\n",
    "        return 1\n",
    "    if k == 0:\n",
    "        return 0\n",
    "    return (1 - n) * stirling_fcache(n - 1, k) + stirling_fcache(n - 1, k - 1)\n",
    "\n",
    "print('s(15, 7) = {}'.format(stirling_fcache(15, 7)))\n",
    "%timeit -n 1000 stirling_fcache(15, 7)"
   ]
  },
  {
   "cell_type": "markdown",
   "id": "3ec03f80-f471-4dd1-8f73-0e0d45e0313a",
   "metadata": {},
   "source": [
    "## Decorator factories"
   ]
  },
  {
   "cell_type": "markdown",
   "id": "2b4520fd-cc00-4fd4-b23e-b94b50ad34e1",
   "metadata": {},
   "source": [
    "A decorator factory is a function that returns a decorator. As an example let's generalize the plus one decorator in the previous section to add any number to the function output:"
   ]
  },
  {
   "cell_type": "code",
   "execution_count": 10,
   "id": "e7adf34f-55cd-4180-a519-81e579917358",
   "metadata": {},
   "outputs": [],
   "source": [
    "def plus_k_decorator_factory(k):\n",
    "    def plus_k_decorator(func):\n",
    "        def new_func(n):\n",
    "            return func(n) + k\n",
    "        return new_func\n",
    "    return plus_k_decorator"
   ]
  },
  {
   "cell_type": "markdown",
   "id": "3986dd04-7fb7-4fa8-ba73-f1fe849f3125",
   "metadata": {},
   "source": [
    "You can use this decorator factory like this:"
   ]
  },
  {
   "cell_type": "code",
   "execution_count": 11,
   "id": "bba7930d-da7a-4a65-8cf0-506237d879b6",
   "metadata": {},
   "outputs": [
    {
     "name": "stdout",
     "output_type": "stream",
     "text": [
      "Decorated function output: 19\n"
     ]
    }
   ],
   "source": [
    "@plus_k_decorator_factory(10)\n",
    "def square_plus_ten(n):\n",
    "    return n * n\n",
    "\n",
    "square_plus_ten_out = square_plus_ten(3)\n",
    "print('Decorated function output: {}'.format(square_plus_ten_out))"
   ]
  },
  {
   "cell_type": "markdown",
   "id": "b3773ea4-7341-44b0-90da-1e8e811af539",
   "metadata": {},
   "source": [
    "The _functools.lru_cache_ decorator that I mentioned in the previous section can also be used as a decorator factory. One potential issue with caching function calls is that the cache can take up a lot of space in memory. We can mitigate this problem by deleting entries in the cache that haven't been called in a while. This is known as a Least Recently Used (LRU) cache. By inputting an argument into _functools.lru_cache_, we can set the maximum size of the cache before it starts to delete the least recently used entries."
   ]
  },
  {
   "cell_type": "code",
   "execution_count": 12,
   "id": "16dd0f84-354d-4308-b0ac-a63ac7b62b2f",
   "metadata": {},
   "outputs": [
    {
     "name": "stdout",
     "output_type": "stream",
     "text": [
      "s(15, 7) = 14409322928\n"
     ]
    }
   ],
   "source": [
    "@functools.lru_cache(1000) # This will allow up to 1000 entries in the cache before it starts to delete them\n",
    "def stirling_lru_cache(n, k):\n",
    "    if k == n:\n",
    "        return 1\n",
    "    if k == 0:\n",
    "        return 0\n",
    "    return (1 - n) * stirling_lru_cache(n - 1, k) + stirling_lru_cache(n - 1, k - 1)\n",
    "\n",
    "print('s(15, 7) = {}'.format(stirling_lru_cache(15, 7)))"
   ]
  },
  {
   "cell_type": "code",
   "execution_count": null,
   "id": "979b7017-3c52-4ceb-a558-2a2c496b2f62",
   "metadata": {},
   "outputs": [],
   "source": []
  }
 ],
 "metadata": {
  "kernelspec": {
   "display_name": "Python 3 (ipykernel)",
   "language": "python",
   "name": "python3"
  },
  "language_info": {
   "codemirror_mode": {
    "name": "ipython",
    "version": 3
   },
   "file_extension": ".py",
   "mimetype": "text/x-python",
   "name": "python",
   "nbconvert_exporter": "python",
   "pygments_lexer": "ipython3",
   "version": "3.8.2"
  }
 },
 "nbformat": 4,
 "nbformat_minor": 5
}
